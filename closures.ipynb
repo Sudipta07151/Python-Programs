{
 "metadata": {
  "language_info": {
   "codemirror_mode": {
    "name": "ipython",
    "version": 3
   },
   "file_extension": ".py",
   "mimetype": "text/x-python",
   "name": "python",
   "nbconvert_exporter": "python",
   "pygments_lexer": "ipython3",
   "version": "3.8.5-final"
  },
  "orig_nbformat": 2,
  "kernelspec": {
   "name": "python3",
   "display_name": "Python 3"
  }
 },
 "nbformat": 4,
 "nbformat_minor": 2,
 "cells": [
  {
   "cell_type": "code",
   "execution_count": 6,
   "metadata": {},
   "outputs": [
    {
     "output_type": "stream",
     "name": "stdout",
     "text": [
      "Python is a Rocking language\n(<cell at 0x06907AF0: str object at 0x00F8E3A0>,)\n('x',)\n"
     ]
    }
   ],
   "source": [
    "def outer():\n",
    "    x='Python'\n",
    "    def inner():\n",
    "        print(f\"{x} is a Rocking language\")\n",
    "    return inner\n",
    "fn=outer()\n",
    "fn()\n",
    "print(fn.__closure__)\n",
    "print(fn.__code__.co_freevars)"
   ]
  },
  {
   "cell_type": "code",
   "execution_count": 12,
   "metadata": {},
   "outputs": [
    {
     "output_type": "stream",
     "name": "stdout",
     "text": [
      "2\n3\n(<cell at 0x00731250: int object at 0x7AD1A7D0>,)\n('counter',)\n"
     ]
    }
   ],
   "source": [
    "def outer():\n",
    "    counter=1\n",
    "    def inner():\n",
    "        nonlocal counter \n",
    "        counter=counter+1\n",
    "        return counter\n",
    "    return inner\n",
    "fn=outer()\n",
    "print(fn())\n",
    "print(fn())\n",
    "print(fn.__closure__)\n",
    "print(fn.__code__.co_freevars)"
   ]
  },
  {
   "cell_type": "code",
   "execution_count": 10,
   "metadata": {},
   "outputs": [
    {
     "output_type": "stream",
     "name": "stdout",
     "text": [
      "1\n2\n3\n4\n"
     ]
    }
   ],
   "source": [
    "def outer():\n",
    "    counter=0\n",
    "    def inner1():\n",
    "        nonlocal counter\n",
    "        counter=counter+1\n",
    "        return counter\n",
    "    def inner2():\n",
    "        nonlocal counter\n",
    "        counter=counter+1\n",
    "        return counter\n",
    "    return inner1,inner2\n",
    "\n",
    "fn1,fn2=outer()\n",
    "print(fn1())\n",
    "print(fn2())\n",
    "print(fn2())\n",
    "print(fn1())\n"
   ]
  },
  {
   "cell_type": "code",
   "execution_count": 21,
   "metadata": {},
   "outputs": [
    {
     "output_type": "stream",
     "name": "stdout",
     "text": [
      "7\n10\n"
     ]
    }
   ],
   "source": [
    "def outer(val):\n",
    "    def inner(x):\n",
    "        return x+val\n",
    "    return inner\n",
    "\n",
    "fn=outer(5)\n",
    "print(fn(2))\n",
    "print(fn(5))\n",
    "for i in range(1:10)"
   ]
  },
  {
   "cell_type": "code",
   "execution_count": 32,
   "metadata": {},
   "outputs": [
    {
     "output_type": "stream",
     "name": "stdout",
     "text": [
      "function adder was called 1 times\n11\nfunction adder was called 2 times\n10\n"
     ]
    }
   ],
   "source": [
    "def outer(n):\n",
    "    def inner(val):\n",
    "        current=val\n",
    "        def adder():\n",
    "            nonlocal current\n",
    "            current=current+n\n",
    "            return current\n",
    "        return adder\n",
    "    return inner\n",
    "\n",
    "fn=outer(5)\n",
    "fn_inner=fn(100)\n",
    "fn_inner()\n",
    "\n",
    "def outer(func):\n",
    "    counter=0\n",
    "    def inner(*args,**kwargs):\n",
    "        nonlocal counter\n",
    "        counter=counter+1\n",
    "        print(f\"function {func.__name__} was called {counter} times\")\n",
    "        return(func(*args,*kwargs))\n",
    "    return inner\n",
    "\n",
    "def adder(a,b=0):\n",
    "    return a+b\n",
    "\n",
    "adder=outer(adder)\n",
    "result=adder(5,6)\n",
    "print(result)\n",
    "result=adder(7)\n",
    "print(result)\n",
    "\n"
   ]
  },
  {
   "cell_type": "code",
   "execution_count": null,
   "metadata": {},
   "outputs": [],
   "source": []
  }
 ]
}